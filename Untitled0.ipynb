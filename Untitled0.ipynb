{
  "nbformat": 4,
  "nbformat_minor": 0,
  "metadata": {
    "colab": {
      "name": "Untitled0.ipynb",
      "provenance": [],
      "collapsed_sections": [],
      "include_colab_link": true
    },
    "kernelspec": {
      "name": "python3",
      "display_name": "Python 3"
    },
    "language_info": {
      "name": "python"
    }
  },
  "cells": [
    {
      "cell_type": "markdown",
      "metadata": {
        "id": "view-in-github",
        "colab_type": "text"
      },
      "source": [
        "<a href=\"https://colab.research.google.com/github/Gribanov-Danil/ProjectWork2022.2-ndSemestr/blob/main/Untitled0.ipynb\" target=\"_parent\"><img src=\"https://colab.research.google.com/assets/colab-badge.svg\" alt=\"Open In Colab\"/></a>"
      ]
    },
    {
      "cell_type": "markdown",
      "source": [
        "*Импортируем необходимые модули*"
      ],
      "metadata": {
        "id": "-CXN65gEkAwf"
      }
    },
    {
      "cell_type": "code",
      "execution_count": 109,
      "metadata": {
        "id": "5bVWJRG2Il_V"
      },
      "outputs": [],
      "source": [
        "import json\n",
        "import shutil\n",
        "import os\n",
        "import tensorflow\n",
        "import numpy as np\n",
        "\n",
        "from keras.preprocessing import image\n",
        "from keras.preprocessing.image import ImageDataGenerator\n",
        "from tensorflow.python.keras.models import Sequential\n",
        "from tensorflow.python.keras.layers import Conv2D, MaxPooling2D\n",
        "from tensorflow.python.keras.layers import Activation, Dropout, Flatten, Dense"
      ]
    },
    {
      "cell_type": "markdown",
      "source": [
        "*Настройка окружения*"
      ],
      "metadata": {
        "id": "tJyBsF_OkgAi"
      }
    },
    {
      "cell_type": "code",
      "source": [
        "# Каталог с данными для обучения\n",
        "train_dir = r'test/'\n",
        "# Каталог с данными для проверки\n",
        "val_dir = r'test/'\n",
        "# Каталог с данными для тестирования\n",
        "test_dir = r'test/'\n",
        "# Размеры изображения\n",
        "img_width, img_height = 150, 150\n",
        "# Размерность тензора на основе изображения для входных данных в нейронную сеть\n",
        "# backend Tensorflow, channels_last\n",
        "input_shape = (img_width, img_height, 3)\n",
        "# Количество эпох\n",
        "epochs = 10\n",
        "# Размер мини-выборки\n",
        "batch_size = 1\n",
        "# Количество изображений для обучения\n",
        "nb_train_samples = 9\n",
        "# Количество изображений для проверки\n",
        "nb_validation_samples = 9\n",
        "# Количество изображений для тестирования\n",
        "nb_test_samples = 9"
      ],
      "metadata": {
        "id": "Vq9CiqNxkQ_W"
      },
      "execution_count": 110,
      "outputs": []
    },
    {
      "cell_type": "markdown",
      "source": [
        "*Настраиваем модель*"
      ],
      "metadata": {
        "id": "dKqiZVZSkmM3"
      }
    },
    {
      "cell_type": "code",
      "source": [
        "\n",
        "model = Sequential()\n",
        "model.add(Conv2D(32, (3, 3), input_shape=input_shape))\n",
        "model.add(Activation('relu'))\n",
        "model.add(MaxPooling2D(pool_size=(2, 2)))\n",
        "\n",
        "model.add(Conv2D(32, (3, 3)))\n",
        "model.add(Activation('relu'))\n",
        "model.add(MaxPooling2D(pool_size=(2, 2)))\n",
        "\n",
        "model.add(Conv2D(64, (3, 3)))\n",
        "model.add(Activation('relu'))\n",
        "model.add(MaxPooling2D(pool_size=(2, 2)))\n",
        "\n",
        "model.add(Flatten())\n",
        "model.add(Dense(64))\n",
        "model.add(Activation('relu'))\n",
        "model.add(Dropout(0.5))\n",
        "model.add(Dense(3))\n",
        "model.add(Activation('sigmoid'))\n",
        "\n",
        "model.compile(loss='categorical_crossentropy',\n",
        "              optimizer='adam',\n",
        "              metrics=['categorical_accuracy'])"
      ],
      "metadata": {
        "id": "vZZPGluNkqo9"
      },
      "execution_count": 111,
      "outputs": []
    },
    {
      "cell_type": "markdown",
      "source": [
        "аугментация и прогонка по слоям"
      ],
      "metadata": {
        "id": "JXGKr7wIk2oK"
      }
    },
    {
      "cell_type": "code",
      "source": [
        "datagen = ImageDataGenerator(rescale=1. / 255)\n",
        "\n",
        "train_generator = datagen.flow_from_directory(\n",
        "    train_dir,\n",
        "    target_size=(img_width, img_height),\n",
        "    batch_size=batch_size,\n",
        "    class_mode='categorical')\n",
        "\n",
        "val_generator = datagen.flow_from_directory(\n",
        "    val_dir,\n",
        "    target_size=(img_width, img_height),\n",
        "    batch_size=batch_size,\n",
        "    class_mode='categorical')\n",
        "\n",
        "test_generator = datagen.flow_from_directory(\n",
        "    test_dir,\n",
        "    target_size=(img_width, img_height),\n",
        "    batch_size=batch_size,\n",
        "    class_mode='categorical')\n",
        "\n",
        "model.fit(\n",
        "    train_generator,\n",
        "    steps_per_epoch=nb_train_samples // batch_size,\n",
        "    epochs=epochs,\n",
        "    validation_data=val_generator,\n",
        "    validation_steps=nb_validation_samples // batch_size)"
      ],
      "metadata": {
        "colab": {
          "base_uri": "https://localhost:8080/"
        },
        "id": "gnnHL1Cgk60G",
        "outputId": "a9841b3c-e018-43d2-a249-22e21c0b5326"
      },
      "execution_count": 112,
      "outputs": [
        {
          "output_type": "stream",
          "name": "stdout",
          "text": [
            "Found 9 images belonging to 3 classes.\n",
            "Found 9 images belonging to 3 classes.\n",
            "Found 9 images belonging to 3 classes.\n",
            "Epoch 1/10\n",
            "9/9 [==============================] - 3s 203ms/step - loss: 1.3406 - categorical_accuracy: 0.1111 - val_loss: 1.0692 - val_categorical_accuracy: 0.3333\n",
            "Epoch 2/10\n",
            "9/9 [==============================] - 1s 111ms/step - loss: 1.2069 - categorical_accuracy: 0.2222 - val_loss: 1.0260 - val_categorical_accuracy: 0.4444\n",
            "Epoch 3/10\n",
            "9/9 [==============================] - 1s 125ms/step - loss: 1.0716 - categorical_accuracy: 0.6667 - val_loss: 1.0101 - val_categorical_accuracy: 0.7778\n",
            "Epoch 4/10\n",
            "9/9 [==============================] - 1s 109ms/step - loss: 0.9984 - categorical_accuracy: 0.4444 - val_loss: 1.0139 - val_categorical_accuracy: 0.3333\n",
            "Epoch 5/10\n",
            "9/9 [==============================] - 1s 101ms/step - loss: 0.9461 - categorical_accuracy: 0.5556 - val_loss: 0.7169 - val_categorical_accuracy: 1.0000\n",
            "Epoch 6/10\n",
            "9/9 [==============================] - 1s 116ms/step - loss: 0.8998 - categorical_accuracy: 0.7778 - val_loss: 0.4198 - val_categorical_accuracy: 1.0000\n",
            "Epoch 7/10\n",
            "9/9 [==============================] - 1s 110ms/step - loss: 0.6130 - categorical_accuracy: 0.7778 - val_loss: 0.4234 - val_categorical_accuracy: 1.0000\n",
            "Epoch 8/10\n",
            "9/9 [==============================] - 1s 116ms/step - loss: 0.4597 - categorical_accuracy: 0.8889 - val_loss: 0.1832 - val_categorical_accuracy: 0.8889\n",
            "Epoch 9/10\n",
            "9/9 [==============================] - 1s 153ms/step - loss: 0.4312 - categorical_accuracy: 0.6667 - val_loss: 0.1380 - val_categorical_accuracy: 1.0000\n",
            "Epoch 10/10\n",
            "9/9 [==============================] - 1s 111ms/step - loss: 0.1802 - categorical_accuracy: 1.0000 - val_loss: 0.0914 - val_categorical_accuracy: 1.0000\n"
          ]
        },
        {
          "output_type": "execute_result",
          "data": {
            "text/plain": [
              "<tensorflow.python.keras.callbacks.History at 0x7f771786e8d0>"
            ]
          },
          "metadata": {},
          "execution_count": 112
        }
      ]
    },
    {
      "cell_type": "markdown",
      "source": [
        "*Вывод данных*"
      ],
      "metadata": {
        "id": "dNv-bq4Qk8nN"
      }
    },
    {
      "cell_type": "code",
      "source": [
        "scores = model.evaluate_generator(test_generator, nb_test_samples // batch_size)\n",
        "print(\"Аккуратность на тестовых данных: %.2f%%\" % (scores[1]*100))\n",
        "\n",
        "def getName(index):\n",
        "  if index == 0:\n",
        "    print(\"Logitech\")\n",
        "  elif index == 1:\n",
        "    print(\"Razer\")\n",
        "  elif index == 2:\n",
        "    print(\"Steel\")\n",
        "  else:\n",
        "    print(\"Ошибка\")\n",
        "\n",
        "def load_image(img_path, show=False):\n",
        "\n",
        "    img = image.load_img(img_path, target_size=(150, 150))\n",
        "    img_tensor = image.img_to_array(img)                   \n",
        "    img_tensor = np.expand_dims(img_tensor, axis=0)        \n",
        "    img_tensor /= 255.                                      \n",
        "\n",
        "    return img_tensor\n",
        "\n",
        "new_image = load_image(r'test/Steel/Steel.1.jpg')\n",
        "predict = model.predict(new_image)\n",
        "\n",
        "# i, j = np.where(pred == pred.max())\n",
        "getName(np.where(predict == predict.max())[1])\n",
        "\n",
        "# model_json = model.to_json()\n",
        "# json_file = open(\"mnist_model.json\", \"w\")\n",
        "# json_file.write(model_json)\n",
        "# json_file.close()\n",
        "\n",
        "# model.save_weights(\"mnist_model.h5\")"
      ],
      "metadata": {
        "colab": {
          "base_uri": "https://localhost:8080/"
        },
        "id": "HggzZBqXk_V7",
        "outputId": "94cec50d-68d9-4a73-f905-1dbce1f38426"
      },
      "execution_count": 113,
      "outputs": [
        {
          "output_type": "stream",
          "name": "stderr",
          "text": [
            "/usr/local/lib/python3.7/dist-packages/tensorflow/python/keras/engine/training.py:1996: UserWarning: `Model.evaluate_generator` is deprecated and will be removed in a future version. Please use `Model.evaluate`, which supports generators.\n",
            "  warnings.warn('`Model.evaluate_generator` is deprecated and '\n"
          ]
        },
        {
          "output_type": "stream",
          "name": "stdout",
          "text": [
            "Аккуратность на тестовых данных: 100.00%\n",
            "Steel\n"
          ]
        }
      ]
    }
  ]
}